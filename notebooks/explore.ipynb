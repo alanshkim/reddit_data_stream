{
 "cells": [
  {
   "cell_type": "code",
   "execution_count": 27,
   "metadata": {},
   "outputs": [],
   "source": [
    "import s3fs\n",
    "s3 = s3fs.S3FileSystem()"
   ]
  },
  {
   "cell_type": "code",
   "execution_count": 1,
   "metadata": {},
   "outputs": [],
   "source": [
    "import os\n",
    "import sys\n",
    "import yaml\n",
    "import configparser\n",
    "import numpy as np\n",
    "import pandas as pd\n",
    "import praw\n",
    "from praw import Reddit"
   ]
  },
  {
   "cell_type": "code",
   "execution_count": 2,
   "metadata": {},
   "outputs": [],
   "source": [
    "parser = configparser.ConfigParser()\n",
    "parser.read('../config/config.conf')\n",
    "\n",
    "REDDIT_SECRET_KEY = parser.get('api_keys', 'REDDIT_SECRET_KEY')\n",
    "REDDIT_CLIENT_ID = parser.get('api_keys', 'REDDIT_CLIENT_ID')\n",
    "\n",
    "with open('../config/post_fields.yml', 'r') as file:\n",
    "    data = yaml.safe_load(file)\n",
    "\n",
    "POST_FIELDS = data['POST_FIELDS']\n"
   ]
  },
  {
   "cell_type": "code",
   "execution_count": 3,
   "metadata": {},
   "outputs": [
    {
     "name": "stdout",
     "output_type": "stream",
     "text": [
      "Connected to Reddit!\n"
     ]
    },
    {
     "name": "stderr",
     "output_type": "stream",
     "text": [
      "Version 7.7.1 of praw is outdated. Version 7.8.0 was released 1 day ago.\n"
     ]
    }
   ],
   "source": [
    "def connect_reddit(client_id, client_secret, user_agent) -> Reddit:\n",
    "    try:\n",
    "        reddit = praw.Reddit(client_id=client_id,\n",
    "                             client_secret=client_secret,\n",
    "                             user_agent=user_agent)\n",
    "        print(\"Connected to Reddit!\")\n",
    "        return reddit\n",
    "    except Exception as e:\n",
    "        print(e)\n",
    "        sys.exit(1)\n",
    "\n",
    "reddit_instance = connect_reddit(REDDIT_CLIENT_ID, REDDIT_SECRET_KEY, 'AGENT')"
   ]
  },
  {
   "cell_type": "code",
   "execution_count": 5,
   "metadata": {},
   "outputs": [],
   "source": [
    "def extract_posts(reddit_instance: Reddit, subreddit: str, limit=None):\n",
    "\n",
    "    subreddit = reddit_instance.subreddit('dataengineering')\n",
    "    posts = subreddit.hot(limit=limit)\n",
    "\n",
    "    posts_list = []\n",
    "    comments_list = []\n",
    "\n",
    "    for post in posts:\n",
    "        post_dict = vars(post)\n",
    "        post_data = {field: post_dict[field] for field in POST_FIELDS}\n",
    "        posts_list.append(post_data)\n",
    "\n",
    "        post.comments.replace_more(limit=None)\n",
    "        for comment in post.comments.list():\n",
    "            comment_data = {\n",
    "            \"post_id\": post.id,\n",
    "            \"comment_id\": comment.id,\n",
    "            \"author\": str(comment.author),\n",
    "            \"body\": comment.body,\n",
    "            \"score\": comment.score,\n",
    "            \"created_utc\": comment.created_utc,\n",
    "            \"parent_id\": comment.parent_id\n",
    "        }\n",
    "            comments_list.append(comment_data)\n",
    "    \n",
    "    return posts_list, comments_list\n",
    "\n",
    "subreddit = 'dataengineering'\n",
    "limit = 50\n",
    "posts_list, comments_list = extract_posts(reddit_instance, subreddit, limit)"
   ]
  },
  {
   "cell_type": "code",
   "execution_count": 23,
   "metadata": {},
   "outputs": [],
   "source": [
    "def transform_data(posts: list, comments: list):\n",
    "\n",
    "    posts_df = pd.DataFrame(posts)\n",
    "    comments_df = pd.DataFrame(comments)\n",
    "\n",
    "    df = posts_df.merge(comments_df, right_on=['post_id'], left_on=['id'], how='left', suffixes=('_post', '_cmnt'))\n",
    "\n",
    "    df['created_utc_post'] = pd.to_datetime(df['created_utc_post'], unit='s')\n",
    "    df['created_utc_cmnt'] = pd.to_datetime(df['created_utc_cmnt'], unit='s')\n",
    "    df['author_post'] = df['author_post'].astype(str)\n",
    "    df['author_cmnt'] = df['author_cmnt'].astype(str)\n",
    "    df['num_comments'] = df['num_comments'].astype(int)\n",
    "    df['score_post'] = df['score_post'].astype(int)\n",
    "    df['score_cmnt'] = pd.to_numeric(df['score_cmnt'], errors='coerce')\n",
    "    df['title'] = df['title'].astype(str)\n",
    "\n",
    "    return df"
   ]
  },
  {
   "cell_type": "code",
   "execution_count": 6,
   "metadata": {},
   "outputs": [],
   "source": [
    "posts_df = pd.DataFrame(posts_list)\n",
    "comments_df = pd.DataFrame(comments_list)"
   ]
  },
  {
   "cell_type": "code",
   "execution_count": 12,
   "metadata": {},
   "outputs": [],
   "source": [
    "df = posts_df.merge(comments_df, right_on=['post_id'], left_on=['id'], how='left', suffixes=('_post', '_cmnt'))"
   ]
  },
  {
   "cell_type": "code",
   "execution_count": 24,
   "metadata": {},
   "outputs": [],
   "source": [
    "df = transform_data(posts_list, comments_list)"
   ]
  }
 ],
 "metadata": {
  "kernelspec": {
   "display_name": "reddit-JXT3y7pA-py3.9",
   "language": "python",
   "name": "python3"
  },
  "language_info": {
   "codemirror_mode": {
    "name": "ipython",
    "version": 3
   },
   "file_extension": ".py",
   "mimetype": "text/x-python",
   "name": "python",
   "nbconvert_exporter": "python",
   "pygments_lexer": "ipython3",
   "version": "3.9.1"
  }
 },
 "nbformat": 4,
 "nbformat_minor": 2
}
